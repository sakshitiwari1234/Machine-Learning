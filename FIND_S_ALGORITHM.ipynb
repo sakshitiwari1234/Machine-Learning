{
  "nbformat": 4,
  "nbformat_minor": 0,
  "metadata": {
    "colab": {
      "provenance": [],
      "authorship_tag": "ABX9TyMNK2be481t0RUnmLmhQ+fo",
      "include_colab_link": true
    },
    "kernelspec": {
      "name": "python3",
      "display_name": "Python 3"
    },
    "language_info": {
      "name": "python"
    }
  },
  "cells": [
    {
      "cell_type": "markdown",
      "metadata": {
        "id": "view-in-github",
        "colab_type": "text"
      },
      "source": [
        "<a href=\"https://colab.research.google.com/github/sakshitiwari1234/Machine-Learning/blob/main/FIND_S_ALGORITHM.ipynb\" target=\"_parent\"><img src=\"https://colab.research.google.com/assets/colab-badge.svg\" alt=\"Open In Colab\"/></a>"
      ]
    },
    {
      "cell_type": "code",
      "execution_count": null,
      "metadata": {
        "colab": {
          "base_uri": "https://localhost:8080/"
        },
        "id": "UF_aoVrAJwk7",
        "outputId": "f579df9a-d692-4b98-d12e-36f9dacf2bf9"
      },
      "outputs": [
        {
          "output_type": "stream",
          "name": "stdout",
          "text": [
            "sakshi\n"
          ]
        }
      ],
      "source": [
        "print(\"sakshi\")"
      ]
    },
    {
      "cell_type": "code",
      "source": [
        "import pandas as pd\n",
        "import numpy as np\n"
      ],
      "metadata": {
        "id": "Dp0byeFAK8Ws"
      },
      "execution_count": null,
      "outputs": []
    },
    {
      "cell_type": "code",
      "source": [
        "# reading the csv data\n",
        "DataFrame= pd.read_csv(\"/content/find_S.csv\")\n",
        "print(DataFrame)"
      ],
      "metadata": {
        "colab": {
          "base_uri": "https://localhost:8080/"
        },
        "id": "Mwu-i_bqLA6h",
        "outputId": "cc5369eb-8ecc-4424-cf4e-9fc54281ed6e"
      },
      "execution_count": null,
      "outputs": [
        {
          "output_type": "stream",
          "name": "stdout",
          "text": [
            "       time weather      temp company humidty    wind goes\n",
            "0   morning   sunny      warm     yes   mild   strong  yes\n",
            "1   evening   rainy      cold      no   mild   normal   no\n",
            "2  morning    sunny  moderate     yes  normal  normal  yes\n",
            "3   evening   sunny      cold     yes    high  strong  yes\n"
          ]
        }
      ]
    },
    {
      "cell_type": "code",
      "source": [
        "# making an array of all the attributes.\n",
        "\n",
        "concepts = np.array(DataFrame) [:, : -1]"
      ],
      "metadata": {
        "id": "YXAwx1-pLIfH"
      },
      "execution_count": null,
      "outputs": []
    },
    {
      "cell_type": "code",
      "source": [
        "print(\" \\n the attributes are:\" , concepts)"
      ],
      "metadata": {
        "colab": {
          "base_uri": "https://localhost:8080/"
        },
        "id": "_uDmyFgpVtnv",
        "outputId": "6cab5e5c-7a80-474d-bc0b-8719ec9b17ce"
      },
      "execution_count": null,
      "outputs": [
        {
          "output_type": "stream",
          "name": "stdout",
          "text": [
            " \n",
            " the attributes are: [['morning' 'sunny' 'warm' 'yes' 'mild ' 'strong']\n",
            " ['evening' 'rainy' 'cold' 'no' 'mild ' 'normal']\n",
            " ['morning ' 'sunny' 'moderate' 'yes' 'normal' 'normal']\n",
            " ['evening' 'sunny' 'cold' 'yes' 'high' 'strong']]\n"
          ]
        }
      ]
    },
    {
      "cell_type": "code",
      "source": [
        "## Segregating the target that has positive and negative examples.\n",
        "\n",
        "target = np.array(DataFrame) [:, -1]\n",
        "\n",
        "\n"
      ],
      "metadata": {
        "id": "2u8NAg5aVzqk"
      },
      "execution_count": null,
      "outputs": []
    },
    {
      "cell_type": "code",
      "source": [
        "print(\"target is \", target)"
      ],
      "metadata": {
        "colab": {
          "base_uri": "https://localhost:8080/"
        },
        "id": "R9esEVmgWm30",
        "outputId": "3411868d-80be-441b-b06e-ce6cb71e0ea5"
      },
      "execution_count": null,
      "outputs": [
        {
          "output_type": "stream",
          "name": "stdout",
          "text": [
            "target is  ['yes' 'no' 'yes' 'yes']\n"
          ]
        }
      ]
    },
    {
      "cell_type": "code",
      "source": [
        "# training function to implement s algorithm\n",
        "\n",
        "def train(c , t):\n",
        "    for i , val in enumerate(t):\n",
        "        if val == \"yes\":\n",
        "            s_h = c.iloc[i].copy()\n",
        "            print(\"specific_hyptothesis\", s_h)\n",
        "            break\n",
        "\n",
        "    for i , val in enumerate(c):\n",
        "        if t[i] == \"yes\":\n",
        "            print(\"Refining hypothesis with example:\", c[i])\n",
        "            for x in range(len(s_h)):\n",
        "                if c.iloc[i][x] != s_h[x]:  # Compare corresponding elements\n",
        "                    s_h = list(s_h)  # Convert tuple to list if necessary\n",
        "                    s_h[x] = '?'  # Generalize mismatch\n",
        "                    s_h = tuple(s_h)  # Convert back to tuple\n",
        "\n",
        "\n",
        "    return s_h"
      ],
      "metadata": {
        "id": "UIYRiSSJWsjw"
      },
      "execution_count": null,
      "outputs": []
    },
    {
      "cell_type": "code",
      "source": [
        "def train(c, t):\n",
        "    s_h = None  # Initialize specific hypothesis\n",
        "\n",
        "    # Step 1: Find the first positive example\n",
        "    for i, val in enumerate(t):\n",
        "        if val == \"yes\":\n",
        "            s_h = list(c.iloc[i])  # Use iloc to fetch row data\n",
        "            print(\"Initial specific hypothesis:\", s_h)\n",
        "            break\n",
        "\n",
        "    if s_h is None:\n",
        "        return None\n",
        "\n",
        "    # Step 2: Generalize the hypothesis\n",
        "    for i in range(len(c)):\n",
        "        if t[i] == \"yes\":\n",
        "            print(\"Refining hypothesis with example:\", list(c.iloc[i]))\n",
        "            for x in range(len(s_h)):\n",
        "                if c.iloc[i, x] != s_h[x]:  # Correct comparison\n",
        "                    s_h[x] = '?'  # Generalize mismatch\n",
        "\n",
        "    return s_h\n"
      ],
      "metadata": {
        "id": "oqGes98rlK25"
      },
      "execution_count": null,
      "outputs": []
    },
    {
      "cell_type": "code",
      "source": [
        "# obtaining final hypothesis\n",
        "\n",
        "print(\"the final hypothesis is this :\", train(DataFrame, target))"
      ],
      "metadata": {
        "colab": {
          "base_uri": "https://localhost:8080/"
        },
        "id": "8yBguqF7bE0Z",
        "outputId": "c69dc2a0-2776-404d-8056-533d1450696e"
      },
      "execution_count": null,
      "outputs": [
        {
          "output_type": "stream",
          "name": "stdout",
          "text": [
            "Initial specific hypothesis: ['morning', 'sunny', 'warm', 'yes', 'mild ', 'strong', 'yes']\n",
            "Refining hypothesis with example: ['morning', 'sunny', 'warm', 'yes', 'mild ', 'strong', 'yes']\n",
            "Refining hypothesis with example: ['morning ', 'sunny', 'moderate', 'yes', 'normal', 'normal', 'yes']\n",
            "Refining hypothesis with example: ['evening', 'sunny', 'cold', 'yes', 'high', 'strong', 'yes']\n",
            "the final hypothesis is this : ['?', 'sunny', '?', 'yes', '?', '?', 'yes']\n"
          ]
        }
      ]
    },
    {
      "cell_type": "code",
      "source": [
        "def train(concept, target):\n",
        "    s_h = con[0].copy"
      ],
      "metadata": {
        "id": "Xb1SLBBtbOUU"
      },
      "execution_count": null,
      "outputs": []
    }
  ]
}