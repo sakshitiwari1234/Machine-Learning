{
  "nbformat": 4,
  "nbformat_minor": 0,
  "metadata": {
    "colab": {
      "provenance": [],
      "authorship_tag": "ABX9TyNipsSxavx3VB9zZzPOuDYs",
      "include_colab_link": true
    },
    "kernelspec": {
      "name": "python3",
      "display_name": "Python 3"
    },
    "language_info": {
      "name": "python"
    }
  },
  "cells": [
    {
      "cell_type": "markdown",
      "metadata": {
        "id": "view-in-github",
        "colab_type": "text"
      },
      "source": [
        "<a href=\"https://colab.research.google.com/github/sakshitiwari1234/Machine-Learning/blob/main/Matrices.ipynb\" target=\"_parent\"><img src=\"https://colab.research.google.com/assets/colab-badge.svg\" alt=\"Open In Colab\"/></a>"
      ]
    },
    {
      "cell_type": "code",
      "execution_count": 1,
      "metadata": {
        "id": "vJr_zTqf2Tyf"
      },
      "outputs": [],
      "source": [
        "import numpy as np"
      ]
    },
    {
      "cell_type": "code",
      "source": [
        "revenue = np.array([[180, 200 , 220],[24,36,40],[12,18,20]])\n",
        "\n",
        "expenses = np.array([[80,90,100],[10,16,20],[8,10,10]])"
      ],
      "metadata": {
        "id": "v38nx06w2Xok"
      },
      "execution_count": 7,
      "outputs": []
    },
    {
      "cell_type": "code",
      "source": [
        "revenue"
      ],
      "metadata": {
        "colab": {
          "base_uri": "https://localhost:8080/"
        },
        "id": "ek-HWB-e2lC_",
        "outputId": "0b4496d3-e521-4332-b4f1-0d5480195fe5"
      },
      "execution_count": 8,
      "outputs": [
        {
          "output_type": "execute_result",
          "data": {
            "text/plain": [
              "array([[180, 200, 220],\n",
              "       [ 24,  36,  40],\n",
              "       [ 12,  18,  20]])"
            ]
          },
          "metadata": {},
          "execution_count": 8
        }
      ]
    },
    {
      "cell_type": "code",
      "source": [
        "expenses"
      ],
      "metadata": {
        "colab": {
          "base_uri": "https://localhost:8080/"
        },
        "id": "DcD16X7L2l39",
        "outputId": "259cbb41-23c0-45aa-c55b-637edd07c4dc"
      },
      "execution_count": 10,
      "outputs": [
        {
          "output_type": "execute_result",
          "data": {
            "text/plain": [
              "array([[ 80,  90, 100],\n",
              "       [ 10,  16,  20],\n",
              "       [  8,  10,  10]])"
            ]
          },
          "metadata": {},
          "execution_count": 10
        }
      ]
    },
    {
      "cell_type": "code",
      "source": [
        "profit = revenue - expenses"
      ],
      "metadata": {
        "id": "JmH77IFq26oW"
      },
      "execution_count": 11,
      "outputs": []
    },
    {
      "cell_type": "code",
      "source": [
        "profit"
      ],
      "metadata": {
        "colab": {
          "base_uri": "https://localhost:8080/"
        },
        "id": "YR5nKl7q3SyS",
        "outputId": "c024924b-34e5-4a0c-ceba-c725a094a587"
      },
      "execution_count": 12,
      "outputs": [
        {
          "output_type": "execute_result",
          "data": {
            "text/plain": [
              "array([[100, 110, 120],\n",
              "       [ 14,  20,  20],\n",
              "       [  4,   8,  10]])"
            ]
          },
          "metadata": {},
          "execution_count": 12
        }
      ]
    },
    {
      "cell_type": "code",
      "source": [
        "price = np.array([1000,400,1200])\n"
      ],
      "metadata": {
        "id": "EAKySxoo3T4w"
      },
      "execution_count": 13,
      "outputs": []
    },
    {
      "cell_type": "code",
      "source": [
        "price_per_unit = price* expenses"
      ],
      "metadata": {
        "id": "72SYh2g-3eR8"
      },
      "execution_count": 17,
      "outputs": []
    },
    {
      "cell_type": "code",
      "source": [
        "price_per_unit"
      ],
      "metadata": {
        "colab": {
          "base_uri": "https://localhost:8080/"
        },
        "id": "VBCua3dE3n1Q",
        "outputId": "4f303f36-73a1-4394-8152-a8bdff901c00"
      },
      "execution_count": 18,
      "outputs": [
        {
          "output_type": "execute_result",
          "data": {
            "text/plain": [
              "array([[ 6400,  8100, 10000],\n",
              "       [  100,   256,   400],\n",
              "       [   64,   100,   100]])"
            ]
          },
          "metadata": {},
          "execution_count": 18
        }
      ]
    },
    {
      "cell_type": "code",
      "source": [
        "ans = np.dot(price, expenses)"
      ],
      "metadata": {
        "id": "IvLtRRxa3pmS"
      },
      "execution_count": 20,
      "outputs": []
    },
    {
      "cell_type": "code",
      "source": [
        "ans"
      ],
      "metadata": {
        "colab": {
          "base_uri": "https://localhost:8080/"
        },
        "id": "H0xlR7TV36Wo",
        "outputId": "613e0d46-bb22-4002-cd4c-98c7cfbceebf"
      },
      "execution_count": 21,
      "outputs": [
        {
          "output_type": "execute_result",
          "data": {
            "text/plain": [
              "array([[ 8100,  9640, 10800],\n",
              "       [ 1120,  1356,  1520],\n",
              "       [  820,   980,  1100]])"
            ]
          },
          "metadata": {},
          "execution_count": 21
        }
      ]
    },
    {
      "cell_type": "code",
      "source": [
        "\n",
        "\n",
        "y_pred = np.array([1,1,0,0,1])\n",
        "y_true = np.array([0,30,0,7,1])"
      ],
      "metadata": {
        "id": "H_jwCGw54Dg6"
      },
      "execution_count": 29,
      "outputs": []
    },
    {
      "cell_type": "code",
      "source": [
        "def mae(y_true , y_pred):\n",
        "  total_err = 0\n",
        "  for yt , yp in zip(y_true , y_pred):\n",
        "    total_err += abs(yt-yp)\n",
        "  print(\"Total eorror\" , total_err)\n",
        "\n",
        "  mae = total_err / len(y_true)\n",
        "  print(mae)\n",
        "  return mae"
      ],
      "metadata": {
        "id": "JVPF5f_d9_A8"
      },
      "execution_count": 23,
      "outputs": []
    },
    {
      "cell_type": "code",
      "source": [
        "mae(y_true , y_pred)"
      ],
      "metadata": {
        "colab": {
          "base_uri": "https://localhost:8080/"
        },
        "id": "kb2jan59-p_t",
        "outputId": "8fc6b216-b6d8-488a-aa92-3a70f4ef434c"
      },
      "execution_count": 24,
      "outputs": [
        {
          "output_type": "stream",
          "name": "stdout",
          "text": [
            "Total eorror 37.0\n",
            "5.285714285714286\n"
          ]
        },
        {
          "output_type": "execute_result",
          "data": {
            "text/plain": [
              "np.float64(5.285714285714286)"
            ]
          },
          "metadata": {},
          "execution_count": 24
        }
      ]
    },
    {
      "cell_type": "code",
      "source": [
        "np.sum(np.abs(y_pred - y_true))"
      ],
      "metadata": {
        "colab": {
          "base_uri": "https://localhost:8080/"
        },
        "id": "T7DRN63s_EWr",
        "outputId": "fce226b3-7b73-443f-92af-69f7ef598627"
      },
      "execution_count": 32,
      "outputs": [
        {
          "output_type": "execute_result",
          "data": {
            "text/plain": [
              "np.int64(37)"
            ]
          },
          "metadata": {},
          "execution_count": 32
        }
      ]
    },
    {
      "cell_type": "code",
      "source": [],
      "metadata": {
        "id": "8YnO1CvS_Yne"
      },
      "execution_count": null,
      "outputs": []
    }
  ]
}