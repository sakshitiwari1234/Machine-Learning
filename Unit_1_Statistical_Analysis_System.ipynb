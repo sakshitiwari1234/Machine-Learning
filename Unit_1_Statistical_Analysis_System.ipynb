{
  "nbformat": 4,
  "nbformat_minor": 0,
  "metadata": {
    "colab": {
      "provenance": []
    },
    "kernelspec": {
      "name": "python3",
      "display_name": "Python 3"
    },
    "language_info": {
      "name": "python"
    }
  },
  "cells": [
    {
      "cell_type": "markdown",
      "source": [
        "SAS - Statistical analysis is the process of collecting large volumes of data and then using statistics and other data analysis techniques to identify trends, patterns, and insights.\n"
      ],
      "metadata": {
        "id": "VyfPsMz4zfln"
      }
    },
    {
      "cell_type": "markdown",
      "source": [
        "Statistics: Statistics is an applied mathematics subject involved with collecting, characterizing,\n",
        "analyzing, and extracting conclusions from quantitative data.\n",
        "Statistics are classified into two types: descriptive statistics, which explains the characteristics of\n",
        "sample and population data, and inferential statistics, which uses those characteristics to test\n",
        "hypotheses and make conclusions."
      ],
      "metadata": {
        "id": "Qb_GmSlbz2kb"
      }
    },
    {
      "cell_type": "markdown",
      "source": [
        "Importance of Statistical Analysis -> In the professional world, statistical analysts take raw data and find correlations between variables to reveal patterns and trends to relevant stakeholders. Working in a wide range of different fields, statistical analysts are responsible for new scientific discoveries, improving the health of our communities, and guiding business decisions."
      ],
      "metadata": {
        "id": "LI4GZkhN0Tdc"
      }
    },
    {
      "cell_type": "markdown",
      "source": [
        "### Scales of Mesurement."
      ],
      "metadata": {
        "id": "UV-DlFEm5Hj_"
      }
    },
    {
      "cell_type": "markdown",
      "source": [
        "In Statistics, the variables or numbers are defined and categorised using different scales of measurements. Each level of measurement scale has specific properties that determine the various use of statistical analysis. In this article, we will learn four types of scales such as nominal, ordinal, interval and ratio scale.\n",
        "\n",
        "What is the Scale?\n",
        "\n",
        "A scale is a device or an object used to measure or quantify any event or another object."
      ],
      "metadata": {
        "id": "5m9WwUie5MnF"
      }
    },
    {
      "cell_type": "markdown",
      "source": [
        "## There are four different scales of measurement. The data can be defined as being one of the four scales. The four types of scales are:\n",
        "\n",
        "Nominal Scale\n",
        "Ordinal Scale\n",
        "Interval Scale\n",
        "Ratio Scale"
      ],
      "metadata": {
        "id": "9mJXSLCu508r"
      }
    },
    {
      "cell_type": "markdown",
      "source": [
        "# Nominal Scale"
      ],
      "metadata": {
        "id": "fWaWNHkC53lg"
      }
    },
    {
      "cell_type": "markdown",
      "source": [
        "A nominal scale is the 1st level of measurement scale in which the numbers serve as “tags” or “labels” to classify or identify the objects. A nominal scale usually deals with the non-numeric variables or the numbers that do not have any value.\n",
        "\n",
        "Characteristics of Nominal Scale\n",
        "\n",
        "A nominal scale variable is classified into two or more categories. In this measurement mechanism, the answer should fall into either of the classes.\n",
        "It is qualitative. The numbers are used here to identify the objects.\n",
        "The numbers don’t define the object characteristics. The only permissible aspect of numbers in the nominal scale is “counting.”\n",
        "Example:\n",
        "\n",
        "An example of a nominal scale measurement is given below:\n",
        "\n",
        "What is your gender?\n",
        "\n",
        "M- Male\n",
        "\n",
        "F- Female\n",
        "\n",
        "Here, the variables are used as tags, and the answer to this question should be either M or F."
      ],
      "metadata": {
        "id": "YcIXfgqo58DD"
      }
    },
    {
      "cell_type": "markdown",
      "source": [
        "# Ordinal Scale"
      ],
      "metadata": {
        "id": "vp4x5oBQ6b-N"
      }
    },
    {
      "cell_type": "markdown",
      "source": [
        "The ordinal scale is the 2nd level of measurement that reports the ordering and ranking of data without establishing the degree of variation between them. Ordinal represents the “order.” Ordinal data is known as qualitative data or categorical data. It can be grouped, named and also ranked.\n",
        "\n",
        "Characteristics of the Ordinal Scale\n",
        "\n",
        "The ordinal scale shows the relative ranking of the variables\n",
        "It identifies and describes the magnitude of a variable\n",
        "Along with the information provided by the nominal scale, ordinal scales give the rankings of those variables\n",
        "The interval properties are not known\n",
        "The surveyors can quickly analyse the degree of agreement concerning the identified order of variables\n",
        "Example:\n",
        "\n",
        "Ranking of school students – 1st, 2nd, 3rd, etc.\n",
        "Ratings in restaurants\n",
        "Evaluating the frequency of occurrences\n",
        "Very often\n",
        "Often\n",
        "Not often\n",
        "Not at all\n",
        "Assessing the degree of agreement\n",
        "Totally agree\n",
        "Agree\n",
        "Neutral\n",
        "Disagree\n",
        "Totally disagree"
      ],
      "metadata": {
        "id": "bVscBOJq6272"
      }
    },
    {
      "cell_type": "markdown",
      "source": [
        "#Interval Scale"
      ],
      "metadata": {
        "id": "5gYAYc987Q_8"
      }
    },
    {
      "cell_type": "markdown",
      "source": [
        "The interval scale is the 3rd level of measurement scale. It is defined as a quantitative measurement scale in which the difference between the two variables is meaningful. In other words, the variables are measured in an exact manner, not as in a relative way in which the presence of zero is arbitrary.\n",
        "\n",
        "Characteristics of Interval Scale:\n",
        "\n",
        "The interval scale is quantitative as it can quantify the difference between the values\n",
        "It allows calculating the mean and median of the variables\n",
        "To understand the difference between the variables, you can subtract the values between the variables\n",
        "The interval scale is the preferred scale in Statistics as it helps to assign any numerical values to arbitrary assessment such as feelings, calendar types, etc.\n",
        "Example:\n",
        "\n",
        "Likert Scale\n",
        "Net Promoter Score (NPS)\n",
        "Bipolar Matrix Table\n"
      ],
      "metadata": {
        "id": "SoSfqmE37S8a"
      }
    },
    {
      "cell_type": "markdown",
      "source": [
        "#Ratio Scale"
      ],
      "metadata": {
        "id": "2YuM3GoQ7mK7"
      }
    },
    {
      "cell_type": "markdown",
      "source": [
        "The ratio scale is the 4th level of measurement scale, which is quantitative. It is a type of variable measurement scale. It allows researchers to compare the differences or intervals. The ratio scale has a unique feature. It possesses the character of the origin or zero points.\n",
        "\n",
        "Characteristics of Ratio Scale:\n",
        "\n",
        "Ratio scale has a feature of absolute zero\n",
        "It doesn’t have negative numbers, because of its zero-point feature\n",
        "It affords unique opportunities for statistical analysis. The variables can be orderly added, subtracted, multiplied, divided. Mean, median, and mode can be calculated using the ratio scale.\n",
        "Ratio scale has unique and useful properties. One such feature is that it allows unit conversions like kilogram – calories, gram – calories, etc.\n",
        "Example:\n",
        "\n",
        "An example of a ratio scale is:\n",
        "\n",
        "What is your weight in Kgs?\n",
        "\n",
        "Less than 55 kgs\n",
        "55 – 75 kgs\n",
        "76 – 85 kgs\n",
        "86 – 95 kgs\n",
        "More than 95 kgs"
      ],
      "metadata": {
        "id": "uv66Vpjo7piK"
      }
    },
    {
      "cell_type": "markdown",
      "source": [
        "# Sampling Measurement Techniques."
      ],
      "metadata": {
        "id": "o7xJbZ9TK_uw"
      }
    },
    {
      "cell_type": "markdown",
      "source": [
        "Yes! And that method is called types of sampling. I’m sure you’ve come across this term a lot during your school/university days, and perhaps even in your professional career. Sampling is a great way to pick up a subset of the data and analyze that. But then –  should we just pick up any subset randomly?\n",
        "\n",
        "Well, we’ll discuss that in this article. We will talk about eight different types of sampling techniques and where you can use each one. This is a beginner-friendly article but some knowledge about descriptive statistics will serve you well."
      ],
      "metadata": {
        "id": "pHAxEKWmLQb2"
      }
    },
    {
      "cell_type": "markdown",
      "source": [
        "##What is Sampling?\n",
        "Let’s start by formally defining what sampling is.\n",
        "\n",
        "Sampling is a method that allows us to get information about the population based on the statistics from a subset of the population (sample), without having to investigate every individual.\n",
        "\n",
        "types of sampling, What is sampling\n",
        "The above diagram perfectly illustrates what sampling is. Let’s understand this at a more intuitive level through an example.\n",
        "\n",
        "We want to find the average height of all adult males in Delhi. The population of Delhi is around 3 crore and males would be roughly around 1.5 crores (these are general assumptions for this example so don’t take them at face value!). As you can imagine, it is nearly impossible to find the average height of all males in Delhi.\n",
        "\n",
        "It’s also not possible to reach every male so we can’t really analyze the entire population. So what can we do instead? We can take multiple samples and calculate the average height of individuals in the selected samples.\n",
        "\n",
        "types of sampling\n",
        "But then we arrive at another question – how can we take a sample? Should we take a random sample? Or do we have to ask the experts?\n",
        "\n",
        "Let’s say we go to a basketball court and take the average height of all the professional basketball players as our sample. This will not be considered a good sample because generally, a basketball player is taller than an average male and it will give us a bad estimate of the average male’s height.\n",
        "\n",
        "Here’s a potential solution – find random people in random situations where our sample would not be skewed based on heights."
      ],
      "metadata": {
        "id": "eq1RsNmcLU7q"
      }
    },
    {
      "cell_type": "markdown",
      "source": [
        "## Why do we need Sampling?\n",
        "I’m sure you have a solid intuition at this point regarding the question.\n",
        "\n",
        "Sampling is done to draw conclusions about populations from samples, and it enables us to determine a population’s characteristics by directly observing only a portion (or sample) of the population.\n",
        "\n",
        "Selecting a sample requires less time than selecting every item in a population\n",
        "Sample selection is a cost-efficient method\n",
        "Analysis of the sample is less cumbersome and more practical than an analysis of the entire population"
      ],
      "metadata": {
        "id": "xGCBgRtBLfo0"
      }
    },
    {
      "cell_type": "markdown",
      "source": [
        "Simple Random Sampling\n",
        "This is a type of sampling technique you must have come across at some point. Here, every individual is chosen entirely by chance and each member of the population has an equal chance of being selected.\n",
        "\n",
        "Simple random sampling reduces selection bias."
      ],
      "metadata": {
        "id": "xaztmcwTLpil"
      }
    },
    {
      "cell_type": "markdown",
      "source": [
        "## Systematic Sampling\n",
        "In this type of sampling, the first individual is selected randomly and others are selected using a fixed ‘sampling interval’. Let’s take a simple example to understand this.\n",
        "\n",
        "Say our population size is x and we have to select a sample size of n. Then, the next individual that we will select would be x/nth intervals away from the first individual. We can select the rest in the same way.\n",
        "\n",
        "systematic sampling , Types of Probability Sampling\n",
        "Suppose, we began with person number 3, and we want a sample size of 5. So, the next individual that we will select would be at an interval of (20/5) = 4 from the 3rd person, i.e. 7 (3+4),  and so on.    \n",
        "\n",
        "                                                            3,  3+4=7,  7+4=11,  11+4=15, 15+4=19 =  3, 7, 11, 15, 19\n",
        "\n",
        "systematic sampling,types of sampling\n",
        "systematic sampling, types of sampling\n",
        "Systematic sampling is more convenient than simple random sampling. However, it might also lead to bias if there is an underlying pattern in which we are selecting items from the population (though the chances of that happening are quite rare)."
      ],
      "metadata": {
        "id": "qkg_Bd2pMPhV"
      }
    },
    {
      "cell_type": "markdown",
      "source": [
        "## Stratified Sampling\n",
        "In this type of sampling, we divide the population into subgroups (called strata) based on different traits like gender, category, etc. And then we select the sample(s) from these subgroups:\n",
        "\n",
        "stratified sampling, Types of Probability Sampling\n",
        "\n",
        "Here, we first divided our population into subgroups based on different colors of red, yellow, green and blue. Then, from each color, we selected an individual in the proportion of their numbers in the population.\n",
        "\n",
        "We use this type of sampling when we want representation from all the subgroups of the population. However, stratified sampling requires proper knowledge of the characteristics of the population."
      ],
      "metadata": {
        "id": "WE30Cfd6MZ-k"
      }
    },
    {
      "cell_type": "markdown",
      "source": [
        "## Cluster Sampling"
      ],
      "metadata": {
        "id": "84jdTor8MiC1"
      }
    },
    {
      "cell_type": "markdown",
      "source": [
        "In a clustered sample, we use the subgroups of the population as the sampling unit rather than individuals. The population is divided into subgroups, known as clusters, and a whole cluster is randomly selected to be included in the study:"
      ],
      "metadata": {
        "id": "BafnFlxrMk2G"
      }
    },
    {
      "cell_type": "markdown",
      "source": [
        "In the above example, we have divided our population into 5 clusters. Each cluster consists of 4 individuals and we have taken the 4th cluster in our sample. We can include more clusters as per our sample size.\n",
        "\n",
        "This type of sampling is used when we focus on a specific region or area."
      ],
      "metadata": {
        "id": "B-6znADFMpkp"
      }
    }
  ]
}